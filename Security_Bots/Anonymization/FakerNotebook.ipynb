{
 "cells": [
  {
   "cell_type": "code",
   "execution_count": 1,
   "metadata": {},
   "outputs": [],
   "source": [
    "import pandas as pd\n",
    "from faker import Faker\n",
    "from sklearn.preprocessing import MinMaxScaler\n",
    "import ast\n",
    "import numpy as np"
   ]
  },
  {
   "cell_type": "code",
   "execution_count": 2,
   "metadata": {},
   "outputs": [],
   "source": [
    "\n",
    "# Initialize Faker library\n",
    "fake = Faker()\n",
    "\n",
    "# Define a function to anonymize a DataFrame\n",
    "def anonymize_df(df):\n",
    "    # Anonymize \"pk\" field\n",
    "    # df[\"pk\"] = [fake.uuid4() for _ in range(len(df))]\n",
    "\n",
    "    # Anonymize \"name\" field\n",
    "    df[\"name\"] = [fake.name() for _ in range(len(df))]\n",
    "\n",
    "    # Anonymize \"description\" field\n",
    "    df[\"description\"] = [fake.text(max_nb_chars=100) for _ in range(len(df))]\n",
    "\n",
    "    # Anonymize \"topics\" field\n",
    "    df[\"topics\"] = [fake.words(nb=5, unique=True) for _ in range(len(df))]\n",
    "\n",
    "    # Anonymize \"output_format\" field\n",
    "    df[\"output_format\"] = [fake.file_extension() for _ in range(len(df))]\n",
    "\n",
    "    # Anonymize \"is_active\" field\n",
    "    # df[\"is_active\"] = [fake.boolean() for _ in range(len(df))]\n",
    "\n",
    "    # Anonymize \"embeddings\" field\n",
    "    # scaler = MinMaxScaler()\n",
    "    # df[\"embeddings\"] = df['embeddings'].apply(lambda x: scaler.fit_transform(x))\n",
    "\n",
    "    return df\n"
   ]
  },
  {
   "cell_type": "code",
   "execution_count": 3,
   "metadata": {},
   "outputs": [
    {
     "data": {
      "text/html": [
       "<div>\n",
       "<style scoped>\n",
       "    .dataframe tbody tr th:only-of-type {\n",
       "        vertical-align: middle;\n",
       "    }\n",
       "\n",
       "    .dataframe tbody tr th {\n",
       "        vertical-align: top;\n",
       "    }\n",
       "\n",
       "    .dataframe thead th {\n",
       "        text-align: right;\n",
       "    }\n",
       "</style>\n",
       "<table border=\"1\" class=\"dataframe\">\n",
       "  <thead>\n",
       "    <tr style=\"text-align: right;\">\n",
       "      <th></th>\n",
       "      <th>pk</th>\n",
       "      <th>name</th>\n",
       "      <th>description</th>\n",
       "      <th>topics</th>\n",
       "      <th>output_format</th>\n",
       "      <th>is_active</th>\n",
       "      <th>embeddings</th>\n",
       "    </tr>\n",
       "  </thead>\n",
       "  <tbody>\n",
       "    <tr>\n",
       "      <th>0</th>\n",
       "      <td>1</td>\n",
       "      <td>name0</td>\n",
       "      <td>description0</td>\n",
       "      <td>topic0</td>\n",
       "      <td>text</td>\n",
       "      <td>True</td>\n",
       "      <td>[0.8848568279692259, 0.45367301999803744, 0.78...</td>\n",
       "    </tr>\n",
       "    <tr>\n",
       "      <th>1</th>\n",
       "      <td>2</td>\n",
       "      <td>name1</td>\n",
       "      <td>description1</td>\n",
       "      <td>topic0</td>\n",
       "      <td>text</td>\n",
       "      <td>True</td>\n",
       "      <td>[0.8848568279692259, 0.45367301999803744, 0.78...</td>\n",
       "    </tr>\n",
       "  </tbody>\n",
       "</table>\n",
       "</div>"
      ],
      "text/plain": [
       "   pk   name   description  topics output_format  is_active  \\\n",
       "0   1  name0  description0  topic0          text       True   \n",
       "1   2  name1  description1  topic0          text       True   \n",
       "\n",
       "                                          embeddings  \n",
       "0  [0.8848568279692259, 0.45367301999803744, 0.78...  \n",
       "1  [0.8848568279692259, 0.45367301999803744, 0.78...  "
      ]
     },
     "execution_count": 3,
     "metadata": {},
     "output_type": "execute_result"
    }
   ],
   "source": [
    "df = pd.read_csv(\"data.csv\",delimiter=\";\")\n",
    "df"
   ]
  },
  {
   "cell_type": "code",
   "execution_count": 4,
   "metadata": {},
   "outputs": [],
   "source": [
    "df[\"embeddings\"] = df['embeddings'].apply(ast.literal_eval)\n",
    "# Convert the list to a numpy array and reshape it to 2D\n",
    "df['embeddings'] = df['embeddings'].apply(lambda x: np.array(x).reshape(-1, 1))"
   ]
  },
  {
   "cell_type": "code",
   "execution_count": 5,
   "metadata": {},
   "outputs": [],
   "source": [
    "# Anonymize the DataFrame\n",
    "df = anonymize_df(df)"
   ]
  },
  {
   "cell_type": "code",
   "execution_count": 6,
   "metadata": {},
   "outputs": [
    {
     "data": {
      "text/html": [
       "<div>\n",
       "<style scoped>\n",
       "    .dataframe tbody tr th:only-of-type {\n",
       "        vertical-align: middle;\n",
       "    }\n",
       "\n",
       "    .dataframe tbody tr th {\n",
       "        vertical-align: top;\n",
       "    }\n",
       "\n",
       "    .dataframe thead th {\n",
       "        text-align: right;\n",
       "    }\n",
       "</style>\n",
       "<table border=\"1\" class=\"dataframe\">\n",
       "  <thead>\n",
       "    <tr style=\"text-align: right;\">\n",
       "      <th></th>\n",
       "      <th>pk</th>\n",
       "      <th>name</th>\n",
       "      <th>description</th>\n",
       "      <th>topics</th>\n",
       "      <th>output_format</th>\n",
       "      <th>is_active</th>\n",
       "      <th>embeddings</th>\n",
       "    </tr>\n",
       "  </thead>\n",
       "  <tbody>\n",
       "    <tr>\n",
       "      <th>0</th>\n",
       "      <td>1</td>\n",
       "      <td>Mrs. Jasmine Garcia</td>\n",
       "      <td>Cause need speech know. Bring staff section wo...</td>\n",
       "      <td>[point, discuss, way, cost, office]</td>\n",
       "      <td>xls</td>\n",
       "      <td>True</td>\n",
       "      <td>[[0.8848568279692259], [0.45367301999803744], ...</td>\n",
       "    </tr>\n",
       "    <tr>\n",
       "      <th>1</th>\n",
       "      <td>2</td>\n",
       "      <td>Edwin Bowman</td>\n",
       "      <td>Assume nice world pass expect. Foreign upon si...</td>\n",
       "      <td>[give, turn, family, crime, behind]</td>\n",
       "      <td>pdf</td>\n",
       "      <td>True</td>\n",
       "      <td>[[0.8848568279692259], [0.45367301999803744], ...</td>\n",
       "    </tr>\n",
       "  </tbody>\n",
       "</table>\n",
       "</div>"
      ],
      "text/plain": [
       "   pk                 name                                        description  \\\n",
       "0   1  Mrs. Jasmine Garcia  Cause need speech know. Bring staff section wo...   \n",
       "1   2         Edwin Bowman  Assume nice world pass expect. Foreign upon si...   \n",
       "\n",
       "                                topics output_format  is_active  \\\n",
       "0  [point, discuss, way, cost, office]           xls       True   \n",
       "1  [give, turn, family, crime, behind]           pdf       True   \n",
       "\n",
       "                                          embeddings  \n",
       "0  [[0.8848568279692259], [0.45367301999803744], ...  \n",
       "1  [[0.8848568279692259], [0.45367301999803744], ...  "
      ]
     },
     "execution_count": 6,
     "metadata": {},
     "output_type": "execute_result"
    }
   ],
   "source": [
    "df"
   ]
  },
  {
   "cell_type": "code",
   "execution_count": 7,
   "metadata": {},
   "outputs": [
    {
     "name": "stdout",
     "output_type": "stream",
     "text": [
      "The data was successfully anonymized and saved to anonymized_data.csv\n"
     ]
    }
   ],
   "source": [
    "# Save the anonymized DataFrame to a new CSV file\n",
    "df.to_csv(\"anonymized_data.csv\", index=False,sep=\";\")\n",
    "\n",
    "# Print a success message\n",
    "print(\"The data was successfully anonymized and saved to anonymized_data.csv\")"
   ]
  }
 ],
 "metadata": {
  "kernelspec": {
   "display_name": "Python 3",
   "language": "python",
   "name": "python3"
  },
  "language_info": {
   "codemirror_mode": {
    "name": "ipython",
    "version": 3
   },
   "file_extension": ".py",
   "mimetype": "text/x-python",
   "name": "python",
   "nbconvert_exporter": "python",
   "pygments_lexer": "ipython3",
   "version": "3.10.11"
  }
 },
 "nbformat": 4,
 "nbformat_minor": 2
}
